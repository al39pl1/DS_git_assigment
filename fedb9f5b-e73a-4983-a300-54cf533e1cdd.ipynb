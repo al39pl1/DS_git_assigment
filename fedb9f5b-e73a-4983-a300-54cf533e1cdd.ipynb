{
 "cells": [
  {
   "cell_type": "markdown",
   "metadata": {
    "toc": true
   },
   "source": [
    "<h1>Содержание<span class=\"tocSkip\"></span></h1>\n",
    "<div class=\"toc\"><ul class=\"toc-item\"><li><ul class=\"toc-item\"><li><span><a href=\"#-V1.-Комментарий-студента\" data-toc-modified-id=\"-V1.-Комментарий-студента-0.1\"><span class=\"toc-item-num\">0.1&nbsp;&nbsp;</span> V1. Комментарий студента</a></span></li></ul></li><li><span><a href=\"#Подготовка-данных\" data-toc-modified-id=\"Подготовка-данных-1\"><span class=\"toc-item-num\">1&nbsp;&nbsp;</span>Подготовка данных</a></span><ul class=\"toc-item\"><li><span><a href=\"#-V1.-Комментарий-студента\" data-toc-modified-id=\"-V1.-Комментарий-студента-1.1\"><span class=\"toc-item-num\">1.1&nbsp;&nbsp;</span> V1. Комментарий студента</a></span></li><li><span><a href=\"#-V1.-Комментарий-студента\" data-toc-modified-id=\"-V1.-Комментарий-студента-1.2\"><span class=\"toc-item-num\">1.2&nbsp;&nbsp;</span> V1. Комментарий студента</a></span><ul class=\"toc-item\"><li><span><a href=\"#Изучаем-данные-и-заполняем-пропуска:\" data-toc-modified-id=\"Изучаем-данные-и-заполняем-пропуска:-1.2.1\"><span class=\"toc-item-num\">1.2.1&nbsp;&nbsp;</span>Изучаем данные и заполняем пропуска:</a></span></li></ul></li><li><span><a href=\"#-V1.-Комментарий-студента\" data-toc-modified-id=\"-V1.-Комментарий-студента-1.3\"><span class=\"toc-item-num\">1.3&nbsp;&nbsp;</span> V1. Комментарий студента</a></span><ul class=\"toc-item\"><li><span><a href=\"#RowNumber,-CustomerId-и-Surname-скорее-всего-усложнят-обучение-модели.-Фамилия,-номер-строки-и-номер-пользователя-вряд-ли-влияют-на-решение-об-уходе.\" data-toc-modified-id=\"RowNumber,-CustomerId-и-Surname-скорее-всего-усложнят-обучение-модели.-Фамилия,-номер-строки-и-номер-пользователя-вряд-ли-влияют-на-решение-об-уходе.-1.3.1\"><span class=\"toc-item-num\">1.3.1&nbsp;&nbsp;</span>RowNumber, CustomerId и Surname скорее всего усложнят обучение модели. Фамилия, номер строки и номер пользователя вряд ли влияют на решение об уходе.</a></span></li><li><span><a href=\"#Масштабирование-признаков---Колонки-Balance,-EstimatedSalary-могу-ввести-в-заблуждение-алгоритм-обучения-из-за-разброса-значений.\" data-toc-modified-id=\"Масштабирование-признаков---Колонки-Balance,-EstimatedSalary-могу-ввести-в-заблуждение-алгоритм-обучения-из-за-разброса-значений.-1.3.2\"><span class=\"toc-item-num\">1.3.2&nbsp;&nbsp;</span>Масштабирование признаков - Колонки Balance, EstimatedSalary могу ввести в заблуждение алгоритм обучения из-за разброса значений.</a></span></li></ul></li><li><span><a href=\"#-V1.-Комментарий-студента\" data-toc-modified-id=\"-V1.-Комментарий-студента-1.4\"><span class=\"toc-item-num\">1.4&nbsp;&nbsp;</span> V1. Комментарий студента</a></span><ul class=\"toc-item\"><li><span><a href=\"#Применяем-прямое-кодирование-ко-всему-датафрейму-для-работы-с-логистической-регресией-и-с-древами-принятия-решения:\" data-toc-modified-id=\"Применяем-прямое-кодирование-ко-всему-датафрейму-для-работы-с-логистической-регресией-и-с-древами-принятия-решения:-1.4.1\"><span class=\"toc-item-num\">1.4.1&nbsp;&nbsp;</span>Применяем прямое кодирование ко всему датафрейму для работы с логистической регресией и с древами принятия решения:</a></span></li></ul></li><li><span><a href=\"#-V1.-Комментарий-студента\" data-toc-modified-id=\"-V1.-Комментарий-студента-1.5\"><span class=\"toc-item-num\">1.5&nbsp;&nbsp;</span> V1. Комментарий студента</a></span><ul class=\"toc-item\"><li><span><a href=\"#Применяем-порядковое-кодирование-ко-всему-датафрейму-для-работы-с-древами-принятия-решения:\" data-toc-modified-id=\"Применяем-порядковое-кодирование-ко-всему-датафрейму-для-работы-с-древами-принятия-решения:-1.5.1\"><span class=\"toc-item-num\">1.5.1&nbsp;&nbsp;</span>Применяем порядковое кодирование ко всему датафрейму для работы с древами принятия решения:</a></span></li></ul></li><li><span><a href=\"#-V1.-Комментарий-студента\" data-toc-modified-id=\"-V1.-Комментарий-студента-1.6\"><span class=\"toc-item-num\">1.6&nbsp;&nbsp;</span> V1. Комментарий студента</a></span></li><li><span><a href=\"#Вывод:\" data-toc-modified-id=\"Вывод:-1.7\"><span class=\"toc-item-num\">1.7&nbsp;&nbsp;</span>Вывод:</a></span></li></ul></li><li><span><a href=\"#Исследование-задачи\" data-toc-modified-id=\"Исследование-задачи-2\"><span class=\"toc-item-num\">2&nbsp;&nbsp;</span>Исследование задачи</a></span><ul class=\"toc-item\"><li><span><a href=\"#Решается-задача-классификации---уйдет-клиент-или-нет.\" data-toc-modified-id=\"Решается-задача-классификации---уйдет-клиент-или-нет.-2.1\"><span class=\"toc-item-num\">2.1&nbsp;&nbsp;</span>Решается задача классификации - уйдет клиент или нет.</a></span></li><li><span><a href=\"#Работаем-с-данными-с-прямым-кодированием-(df_ohe).\" data-toc-modified-id=\"Работаем-с-данными-с-прямым-кодированием-(df_ohe).-2.2\"><span class=\"toc-item-num\">2.2&nbsp;&nbsp;</span>Работаем с данными с прямым кодированием (df_ohe).</a></span></li><li><span><a href=\"#-V1.-Комментарий-студента\" data-toc-modified-id=\"-V1.-Комментарий-студента-2.3\"><span class=\"toc-item-num\">2.3&nbsp;&nbsp;</span> V1. Комментарий студента</a></span></li><li><span><a href=\"#-V1.-Комментарий-студента\" data-toc-modified-id=\"-V1.-Комментарий-студента-2.4\"><span class=\"toc-item-num\">2.4&nbsp;&nbsp;</span> V1. Комментарий студента</a></span></li><li><span><a href=\"#Работаем-с-данными-с-порядковым-кодированием-(df_ordinal)\" data-toc-modified-id=\"Работаем-с-данными-с-порядковым-кодированием-(df_ordinal)-2.5\"><span class=\"toc-item-num\">2.5&nbsp;&nbsp;</span>Работаем с данными с порядковым кодированием (df_ordinal)</a></span></li><li><span><a href=\"#Вывод.\" data-toc-modified-id=\"Вывод.-2.6\"><span class=\"toc-item-num\">2.6&nbsp;&nbsp;</span>Вывод.</a></span></li></ul></li><li><span><a href=\"#Борьба-с-дисбалансом\" data-toc-modified-id=\"Борьба-с-дисбалансом-3\"><span class=\"toc-item-num\">3&nbsp;&nbsp;</span>Борьба с дисбалансом</a></span><ul class=\"toc-item\"><li><span><a href=\"#-V1.-Комментарий-студента\" data-toc-modified-id=\"-V1.-Комментарий-студента-3.1\"><span class=\"toc-item-num\">3.1&nbsp;&nbsp;</span> V1. Комментарий студента</a></span></li><li><span><a href=\"#Работаем-с-данными-с-прямым-кодированием-(df_ohe).\" data-toc-modified-id=\"Работаем-с-данными-с-прямым-кодированием-(df_ohe).-3.2\"><span class=\"toc-item-num\">3.2&nbsp;&nbsp;</span>Работаем с данными с прямым кодированием (df_ohe).</a></span></li><li><span><a href=\"#-V1.-Комментарий-студента\" data-toc-modified-id=\"-V1.-Комментарий-студента-3.3\"><span class=\"toc-item-num\">3.3&nbsp;&nbsp;</span> V1. Комментарий студента</a></span></li><li><span><a href=\"#Работаем-с-данными-с-порядковым-кодированием-(df_ordinal)\" data-toc-modified-id=\"Работаем-с-данными-с-порядковым-кодированием-(df_ordinal)-3.4\"><span class=\"toc-item-num\">3.4&nbsp;&nbsp;</span>Работаем с данными с порядковым кодированием (df_ordinal)</a></span></li><li><span><a href=\"#-V1.-Комментарий-студента\" data-toc-modified-id=\"-V1.-Комментарий-студента-3.5\"><span class=\"toc-item-num\">3.5&nbsp;&nbsp;</span> V1. Комментарий студента</a></span></li><li><span><a href=\"#-V1.-Комментарий-студента\" data-toc-modified-id=\"-V1.-Комментарий-студента-3.6\"><span class=\"toc-item-num\">3.6&nbsp;&nbsp;</span> V1. Комментарий студента</a></span></li><li><span><a href=\"#Вывод.\" data-toc-modified-id=\"Вывод.-3.7\"><span class=\"toc-item-num\">3.7&nbsp;&nbsp;</span>Вывод.</a></span></li></ul></li><li><span><a href=\"#Тестирование-модели\" data-toc-modified-id=\"Тестирование-модели-4\"><span class=\"toc-item-num\">4&nbsp;&nbsp;</span>Тестирование модели</a></span><ul class=\"toc-item\"><li><span><a href=\"#Вывод.\" data-toc-modified-id=\"Вывод.-4.1\"><span class=\"toc-item-num\">4.1&nbsp;&nbsp;</span>Вывод.</a></span></li></ul></li><li><span><a href=\"#Чек-лист-готовности-проекта\" data-toc-modified-id=\"Чек-лист-готовности-проекта-5\"><span class=\"toc-item-num\">5&nbsp;&nbsp;</span>Чек-лист готовности проекта</a></span></li></ul></div>"
   ]
  },
  {
   "cell_type": "markdown",
   "metadata": {},
   "source": [
    "# Отток клиентов"
   ]
  },
  {
   "cell_type": "markdown",
   "metadata": {},
   "source": [
    "Из «Бета-Банка» стали уходить клиенты. Каждый месяц. Немного, но заметно. Банковские маркетологи посчитали: сохранять текущих клиентов дешевле, чем привлекать новых.\n",
    "\n",
    "Нужно спрогнозировать, уйдёт клиент из банка в ближайшее время или нет. Вам предоставлены исторические данные о поведении клиентов и расторжении договоров с банком. \n",
    "\n",
    "Постройте модель с предельно большим значением *F1*-меры. Чтобы сдать проект успешно, нужно довести метрику до 0.59. Проверьте *F1*-меру на тестовой выборке самостоятельно.\n",
    "\n",
    "Дополнительно измеряйте *AUC-ROC*, сравнивайте её значение с *F1*-мерой.\n",
    "\n",
    "Источник данных: [https://www.kaggle.com/barelydedicated/bank-customer-churn-modeling](https://www.kaggle.com/barelydedicated/bank-customer-churn-modeling)"
   ]
  },
  {
   "cell_type": "markdown",
   "metadata": {},
   "source": [
    "## Подготовка данных"
   ]
  },
  {
   "cell_type": "code",
   "execution_count": 1,
   "metadata": {},
   "outputs": [
    {
     "name": "stdout",
     "output_type": "stream",
     "text": [
      "Requirement already satisfied: scikit-learn==1.1.3 in /home/admin/anaconda3/lib/python3.9/site-packages (1.1.3)\n",
      "Requirement already satisfied: scipy>=1.3.2 in /home/admin/anaconda3/lib/python3.9/site-packages (from scikit-learn==1.1.3) (1.9.1)\n",
      "Requirement already satisfied: threadpoolctl>=2.0.0 in /home/admin/anaconda3/lib/python3.9/site-packages (from scikit-learn==1.1.3) (2.2.0)\n",
      "Requirement already satisfied: joblib>=1.0.0 in /home/admin/anaconda3/lib/python3.9/site-packages (from scikit-learn==1.1.3) (1.2.0)\n",
      "Requirement already satisfied: numpy>=1.17.3 in /home/admin/anaconda3/lib/python3.9/site-packages (from scikit-learn==1.1.3) (1.21.5)\n",
      "Requirement already satisfied: imblearn in /home/admin/anaconda3/lib/python3.9/site-packages (0.0)\n",
      "Requirement already satisfied: imbalanced-learn in /home/admin/anaconda3/lib/python3.9/site-packages (from imblearn) (0.10.1)\n",
      "Requirement already satisfied: joblib>=1.1.1 in /home/admin/anaconda3/lib/python3.9/site-packages (from imbalanced-learn->imblearn) (1.2.0)\n",
      "Requirement already satisfied: numpy>=1.17.3 in /home/admin/anaconda3/lib/python3.9/site-packages (from imbalanced-learn->imblearn) (1.21.5)\n",
      "Requirement already satisfied: scikit-learn>=1.0.2 in /home/admin/anaconda3/lib/python3.9/site-packages (from imbalanced-learn->imblearn) (1.1.3)\n",
      "Requirement already satisfied: scipy>=1.3.2 in /home/admin/anaconda3/lib/python3.9/site-packages (from imbalanced-learn->imblearn) (1.9.1)\n",
      "Requirement already satisfied: threadpoolctl>=2.0.0 in /home/admin/anaconda3/lib/python3.9/site-packages (from imbalanced-learn->imblearn) (2.2.0)\n"
     ]
    }
   ],
   "source": [
    "!pip install scikit-learn==1.1.3\n",
    "!pip install imblearn"
   ]
  },
  {
   "cell_type": "code",
   "execution_count": 2,
   "metadata": {},
   "outputs": [],
   "source": [
    "import pandas as pd;\n",
    "from tqdm import tqdm;\n",
    "from sklearn.metrics import (\n",
    "    f1_score, \n",
    "    roc_auc_score\n",
    ")\n",
    "from sklearn.preprocessing import (\n",
    "    OneHotEncoder,\n",
    "    OrdinalEncoder, \n",
    "    StandardScaler\n",
    ")\n",
    "from sklearn.model_selection import train_test_split;\n",
    "from sklearn.tree import DecisionTreeClassifier;\n",
    "from sklearn.ensemble import RandomForestClassifier;\n",
    "from sklearn.linear_model import LogisticRegression;\n",
    "from sklearn.utils import shuffle;\n",
    "from imblearn.over_sampling import SMOTE;\n",
    "from imblearn.under_sampling import RandomUnderSampler;\n",
    "\n",
    "try:\n",
    "    df = pd.read_csv('/datasets/Churn.csv', sep=',')\n",
    "except Exception as e:\n",
    "    df = pd.read_csv('datasets/Churn.csv', sep=',')"
   ]
  },
  {
   "cell_type": "markdown",
   "metadata": {},
   "source": [
    "Создадим фукции для обучения."
   ]
  },
  {
   "cell_type": "code",
   "execution_count": 3,
   "metadata": {},
   "outputs": [],
   "source": [
    "# решающее дерево\n",
    "def dtcModelTraining(features_train, features_valid, target_train, target_valid, classWeight=None):\n",
    "    features_train = scaleNumeric(features_train)\n",
    "    features_valid = scaleNumeric(features_valid)\n",
    "    best_dtc_depth = 0;\n",
    "    best_dtc_result = 0;\n",
    "    roc_auc_score = 0\n",
    "    dtc_accuracy_data = [];\n",
    "    dtc_depth_data = [];\n",
    "    best_dtcModel = None;\n",
    "    for depth in tqdm(range(1, 20)):\n",
    "        dtcModel = DecisionTreeClassifier(random_state=12345, max_depth=depth, class_weight=classWeight) # обучите модель с заданной глубиной дерева\n",
    "        dtcModel.fit(features_train, target_train)\n",
    "\n",
    "        # проверям на тестовой выборке\n",
    "        predictions = dtcModel.predict(features_valid)\n",
    "        result = f1_score(target_valid, predictions)\n",
    "        dtc_depth_data.append(depth)\n",
    "        dtc_accuracy_data.append(result)\n",
    "        if result > best_dtc_result:\n",
    "            best_dtcModel = dtcModel\n",
    "            best_dtc_depth = depth\n",
    "            best_dtc_result = result\n",
    "            roc_auc_score = calculateRocAuc(dtcModel, features_valid, target_valid)\n",
    "    return best_dtcModel, best_dtc_result, best_dtc_depth, roc_auc_score\n",
    "\n",
    "# случайный лес\n",
    "def rfcModelTraining(features_train, features_valid, target_train, target_valid, classWeight=None):\n",
    "    features_train = scaleNumeric(features_train)\n",
    "    features_valid = scaleNumeric(features_valid)\n",
    "    best_rfc_est = 0;\n",
    "    best_rfc_depth = 0;\n",
    "    best_rfc_result = 0;\n",
    "    roc_auc_score = 0;\n",
    "\n",
    "    best_rfcModel = None\n",
    "    rfc_est_data = []\n",
    "\n",
    "    for est in tqdm(range(10, 150, 10)):\n",
    "        rfc_accuracy_data = []\n",
    "        rfc_depth_data = []\n",
    "        for depth in range(1, 14):\n",
    "            rfcModel = RandomForestClassifier(random_state=12345, max_depth=depth, n_estimators=est, class_weight=classWeight)\n",
    "            rfcModel.fit(features_train, target_train)\n",
    "\n",
    "            # проверям на тестовой выборке\n",
    "            predictions = rfcModel.predict(features_valid)\n",
    "            result = f1_score(target_valid, predictions)\n",
    "            rfc_accuracy_data.append(result)\n",
    "            rfc_depth_data.append(depth)\n",
    "            if result > best_rfc_result:\n",
    "                best_rfcModel = rfcModel\n",
    "                best_rfc_est = est\n",
    "                best_rfc_depth = depth\n",
    "                best_rfc_result = result\n",
    "                roc_auc_score = calculateRocAuc(rfcModel, features_valid, target_valid)\n",
    "        rfc_est_data.append([rfc_depth_data, rfc_accuracy_data])\n",
    "    return best_rfcModel, best_rfc_result, best_rfc_est, best_rfc_depth, roc_auc_score\n",
    "\n",
    "# логистическая регрессия\n",
    "def lrModelTraining(features_train, features_valid, target_train, target_valid, classWeight=None):\n",
    "    features_train = scaleNumeric(features_train)\n",
    "    features_valid = scaleNumeric(features_valid)\n",
    "    # Используем LogisticRegression.\n",
    "    lrModel = LogisticRegression(random_state=12345, solver='lbfgs', max_iter=1000, class_weight=classWeight) \n",
    "    lrModel.fit(features_train, target_train)\n",
    "\n",
    "    # проверям на тестовой выборке\n",
    "    predictions = lrModel.predict(features_valid)\n",
    "    result = f1_score(target_valid, predictions)\n",
    "    return result, calculateRocAuc(lrModel, features_valid, target_valid)\n",
    "\n",
    "# Рассчитываем ROC-AUC\n",
    "def calculateRocAuc(model, features_valid, target_valid):\n",
    "    probabilities_valid = model.predict_proba(features_valid)\n",
    "    probabilities_one_valid = probabilities_valid[:, 1]\n",
    "\n",
    "    return roc_auc_score(target_valid, probabilities_one_valid)\n",
    "\n",
    "# Проводим маштабирование\n",
    "def scaleNumeric(dataFrame):\n",
    "    numeric = ['Balance', 'EstimatedSalary']\n",
    "    scaler = StandardScaler()\n",
    "    scaler.fit(dataFrame[numeric]) \n",
    "    dataFrame[numeric] = scaler.transform(dataFrame[numeric])\n",
    "    return dataFrame;"
   ]
  },
  {
   "cell_type": "markdown",
   "metadata": {},
   "source": [
    "#### Изучаем данные и заполняем пропуска:"
   ]
  },
  {
   "cell_type": "code",
   "execution_count": 4,
   "metadata": {},
   "outputs": [
    {
     "data": {
      "text/html": [
       "<div>\n",
       "<style scoped>\n",
       "    .dataframe tbody tr th:only-of-type {\n",
       "        vertical-align: middle;\n",
       "    }\n",
       "\n",
       "    .dataframe tbody tr th {\n",
       "        vertical-align: top;\n",
       "    }\n",
       "\n",
       "    .dataframe thead th {\n",
       "        text-align: right;\n",
       "    }\n",
       "</style>\n",
       "<table border=\"1\" class=\"dataframe\">\n",
       "  <thead>\n",
       "    <tr style=\"text-align: right;\">\n",
       "      <th></th>\n",
       "      <th>RowNumber</th>\n",
       "      <th>CustomerId</th>\n",
       "      <th>Surname</th>\n",
       "      <th>CreditScore</th>\n",
       "      <th>Geography</th>\n",
       "      <th>Gender</th>\n",
       "      <th>Age</th>\n",
       "      <th>Tenure</th>\n",
       "      <th>Balance</th>\n",
       "      <th>NumOfProducts</th>\n",
       "      <th>HasCrCard</th>\n",
       "      <th>IsActiveMember</th>\n",
       "      <th>EstimatedSalary</th>\n",
       "      <th>Exited</th>\n",
       "    </tr>\n",
       "  </thead>\n",
       "  <tbody>\n",
       "    <tr>\n",
       "      <th>0</th>\n",
       "      <td>1</td>\n",
       "      <td>15634602</td>\n",
       "      <td>Hargrave</td>\n",
       "      <td>619</td>\n",
       "      <td>France</td>\n",
       "      <td>Female</td>\n",
       "      <td>42</td>\n",
       "      <td>2.0</td>\n",
       "      <td>0.00</td>\n",
       "      <td>1</td>\n",
       "      <td>1</td>\n",
       "      <td>1</td>\n",
       "      <td>101348.88</td>\n",
       "      <td>1</td>\n",
       "    </tr>\n",
       "    <tr>\n",
       "      <th>1</th>\n",
       "      <td>2</td>\n",
       "      <td>15647311</td>\n",
       "      <td>Hill</td>\n",
       "      <td>608</td>\n",
       "      <td>Spain</td>\n",
       "      <td>Female</td>\n",
       "      <td>41</td>\n",
       "      <td>1.0</td>\n",
       "      <td>83807.86</td>\n",
       "      <td>1</td>\n",
       "      <td>0</td>\n",
       "      <td>1</td>\n",
       "      <td>112542.58</td>\n",
       "      <td>0</td>\n",
       "    </tr>\n",
       "    <tr>\n",
       "      <th>2</th>\n",
       "      <td>3</td>\n",
       "      <td>15619304</td>\n",
       "      <td>Onio</td>\n",
       "      <td>502</td>\n",
       "      <td>France</td>\n",
       "      <td>Female</td>\n",
       "      <td>42</td>\n",
       "      <td>8.0</td>\n",
       "      <td>159660.80</td>\n",
       "      <td>3</td>\n",
       "      <td>1</td>\n",
       "      <td>0</td>\n",
       "      <td>113931.57</td>\n",
       "      <td>1</td>\n",
       "    </tr>\n",
       "    <tr>\n",
       "      <th>3</th>\n",
       "      <td>4</td>\n",
       "      <td>15701354</td>\n",
       "      <td>Boni</td>\n",
       "      <td>699</td>\n",
       "      <td>France</td>\n",
       "      <td>Female</td>\n",
       "      <td>39</td>\n",
       "      <td>1.0</td>\n",
       "      <td>0.00</td>\n",
       "      <td>2</td>\n",
       "      <td>0</td>\n",
       "      <td>0</td>\n",
       "      <td>93826.63</td>\n",
       "      <td>0</td>\n",
       "    </tr>\n",
       "    <tr>\n",
       "      <th>4</th>\n",
       "      <td>5</td>\n",
       "      <td>15737888</td>\n",
       "      <td>Mitchell</td>\n",
       "      <td>850</td>\n",
       "      <td>Spain</td>\n",
       "      <td>Female</td>\n",
       "      <td>43</td>\n",
       "      <td>2.0</td>\n",
       "      <td>125510.82</td>\n",
       "      <td>1</td>\n",
       "      <td>1</td>\n",
       "      <td>1</td>\n",
       "      <td>79084.10</td>\n",
       "      <td>0</td>\n",
       "    </tr>\n",
       "    <tr>\n",
       "      <th>5</th>\n",
       "      <td>6</td>\n",
       "      <td>15574012</td>\n",
       "      <td>Chu</td>\n",
       "      <td>645</td>\n",
       "      <td>Spain</td>\n",
       "      <td>Male</td>\n",
       "      <td>44</td>\n",
       "      <td>8.0</td>\n",
       "      <td>113755.78</td>\n",
       "      <td>2</td>\n",
       "      <td>1</td>\n",
       "      <td>0</td>\n",
       "      <td>149756.71</td>\n",
       "      <td>1</td>\n",
       "    </tr>\n",
       "    <tr>\n",
       "      <th>6</th>\n",
       "      <td>7</td>\n",
       "      <td>15592531</td>\n",
       "      <td>Bartlett</td>\n",
       "      <td>822</td>\n",
       "      <td>France</td>\n",
       "      <td>Male</td>\n",
       "      <td>50</td>\n",
       "      <td>7.0</td>\n",
       "      <td>0.00</td>\n",
       "      <td>2</td>\n",
       "      <td>1</td>\n",
       "      <td>1</td>\n",
       "      <td>10062.80</td>\n",
       "      <td>0</td>\n",
       "    </tr>\n",
       "    <tr>\n",
       "      <th>7</th>\n",
       "      <td>8</td>\n",
       "      <td>15656148</td>\n",
       "      <td>Obinna</td>\n",
       "      <td>376</td>\n",
       "      <td>Germany</td>\n",
       "      <td>Female</td>\n",
       "      <td>29</td>\n",
       "      <td>4.0</td>\n",
       "      <td>115046.74</td>\n",
       "      <td>4</td>\n",
       "      <td>1</td>\n",
       "      <td>0</td>\n",
       "      <td>119346.88</td>\n",
       "      <td>1</td>\n",
       "    </tr>\n",
       "    <tr>\n",
       "      <th>8</th>\n",
       "      <td>9</td>\n",
       "      <td>15792365</td>\n",
       "      <td>He</td>\n",
       "      <td>501</td>\n",
       "      <td>France</td>\n",
       "      <td>Male</td>\n",
       "      <td>44</td>\n",
       "      <td>4.0</td>\n",
       "      <td>142051.07</td>\n",
       "      <td>2</td>\n",
       "      <td>0</td>\n",
       "      <td>1</td>\n",
       "      <td>74940.50</td>\n",
       "      <td>0</td>\n",
       "    </tr>\n",
       "    <tr>\n",
       "      <th>9</th>\n",
       "      <td>10</td>\n",
       "      <td>15592389</td>\n",
       "      <td>H?</td>\n",
       "      <td>684</td>\n",
       "      <td>France</td>\n",
       "      <td>Male</td>\n",
       "      <td>27</td>\n",
       "      <td>2.0</td>\n",
       "      <td>134603.88</td>\n",
       "      <td>1</td>\n",
       "      <td>1</td>\n",
       "      <td>1</td>\n",
       "      <td>71725.73</td>\n",
       "      <td>0</td>\n",
       "    </tr>\n",
       "  </tbody>\n",
       "</table>\n",
       "</div>"
      ],
      "text/plain": [
       "   RowNumber  CustomerId   Surname  CreditScore Geography  Gender  Age  \\\n",
       "0          1    15634602  Hargrave          619    France  Female   42   \n",
       "1          2    15647311      Hill          608     Spain  Female   41   \n",
       "2          3    15619304      Onio          502    France  Female   42   \n",
       "3          4    15701354      Boni          699    France  Female   39   \n",
       "4          5    15737888  Mitchell          850     Spain  Female   43   \n",
       "5          6    15574012       Chu          645     Spain    Male   44   \n",
       "6          7    15592531  Bartlett          822    France    Male   50   \n",
       "7          8    15656148    Obinna          376   Germany  Female   29   \n",
       "8          9    15792365        He          501    France    Male   44   \n",
       "9         10    15592389        H?          684    France    Male   27   \n",
       "\n",
       "   Tenure    Balance  NumOfProducts  HasCrCard  IsActiveMember  \\\n",
       "0     2.0       0.00              1          1               1   \n",
       "1     1.0   83807.86              1          0               1   \n",
       "2     8.0  159660.80              3          1               0   \n",
       "3     1.0       0.00              2          0               0   \n",
       "4     2.0  125510.82              1          1               1   \n",
       "5     8.0  113755.78              2          1               0   \n",
       "6     7.0       0.00              2          1               1   \n",
       "7     4.0  115046.74              4          1               0   \n",
       "8     4.0  142051.07              2          0               1   \n",
       "9     2.0  134603.88              1          1               1   \n",
       "\n",
       "   EstimatedSalary  Exited  \n",
       "0        101348.88       1  \n",
       "1        112542.58       0  \n",
       "2        113931.57       1  \n",
       "3         93826.63       0  \n",
       "4         79084.10       0  \n",
       "5        149756.71       1  \n",
       "6         10062.80       0  \n",
       "7        119346.88       1  \n",
       "8         74940.50       0  \n",
       "9         71725.73       0  "
      ]
     },
     "metadata": {},
     "output_type": "display_data"
    },
    {
     "name": "stderr",
     "output_type": "stream",
     "text": [
      "/tmp/ipykernel_527193/1218770176.py:3: FutureWarning: Dropping of nuisance columns in DataFrame reductions (with 'numeric_only=None') is deprecated; in a future version this will raise TypeError.  Select only valid columns before calling the reduction.\n",
      "  df = df.fillna(df.median())\n"
     ]
    }
   ],
   "source": [
    "display(df.head(10))\n",
    "#V1 df = df.fillna(value=0)\n",
    "df = df.fillna(df.median())"
   ]
  },
  {
   "cell_type": "markdown",
   "metadata": {},
   "source": [
    "#### RowNumber, CustomerId и Surname скорее всего усложнят обучение модели. Фамилия, номер строки и номер пользователя вряд ли влияют на решение об уходе. "
   ]
  },
  {
   "cell_type": "code",
   "execution_count": 5,
   "metadata": {},
   "outputs": [],
   "source": [
    "df = df.drop(['RowNumber', 'CustomerId', 'Surname'], axis=1)"
   ]
  },
  {
   "cell_type": "markdown",
   "metadata": {},
   "source": [
    "#### Масштабирование признаков - Колонки Balance, EstimatedSalary могу ввести в заблуждение алгоритм обучения из-за разброса значений."
   ]
  },
  {
   "cell_type": "code",
   "execution_count": 6,
   "metadata": {},
   "outputs": [],
   "source": [
    "# V1:\n",
    "# numeric = ['Balance', 'EstimatedSalary']\n",
    "# scaler = StandardScaler()\n",
    "# scaler.fit(df[numeric]) \n",
    "# df[numeric] = scaler.transform(df[numeric])"
   ]
  },
  {
   "cell_type": "markdown",
   "metadata": {},
   "source": [
    "#### Применяем прямое кодирование ко всему датафрейму для работы с логистической регресией и с древами принятия решения:"
   ]
  },
  {
   "cell_type": "code",
   "execution_count": 7,
   "metadata": {},
   "outputs": [],
   "source": [
    "df_ohe = pd.get_dummies(df, drop_first=True)"
   ]
  },
  {
   "cell_type": "markdown",
   "metadata": {},
   "source": [
    "#### Применяем порядковое кодирование ко всему датафрейму для работы с древами принятия решения:"
   ]
  },
  {
   "cell_type": "code",
   "execution_count": 8,
   "metadata": {},
   "outputs": [],
   "source": [
    "encoder = OrdinalEncoder()\n",
    "encoder.fit(df) \n",
    "df_ordinal = pd.DataFrame(encoder.fit_transform(df), columns=df.columns)  "
   ]
  },
  {
   "cell_type": "markdown",
   "metadata": {},
   "source": [
    "### Вывод:\n",
    "Были сделаны две копии данных, чтобы определить, как значения F1 меры будут отличатся в зависимости от кодирования. Это нам поможет улучшить результат и надежность модели. Некторые колонки были удалены, так как не имеют никакого значения для обучения модели."
   ]
  },
  {
   "cell_type": "markdown",
   "metadata": {},
   "source": [
    "## Исследование задачи"
   ]
  },
  {
   "cell_type": "markdown",
   "metadata": {},
   "source": [
    "### Решается задача классификации - уйдет клиент или нет. "
   ]
  },
  {
   "cell_type": "markdown",
   "metadata": {},
   "source": [
    "### Работаем с данными с прямым кодированием (df_ohe)."
   ]
  },
  {
   "cell_type": "markdown",
   "metadata": {},
   "source": [
    "Проверяем баланс классов в целевом признаке (колонка Exited):"
   ]
  },
  {
   "cell_type": "code",
   "execution_count": 9,
   "metadata": {},
   "outputs": [
    {
     "name": "stdout",
     "output_type": "stream",
     "text": [
      "0    0.7963\n",
      "1    0.2037\n",
      "Name: Exited, dtype: float64\n"
     ]
    },
    {
     "data": {
      "text/plain": [
       "<AxesSubplot:title={'center':'Частота данных в колонке Exited'}, xlabel='Данные', ylabel='Частота'>"
      ]
     },
     "execution_count": 9,
     "metadata": {},
     "output_type": "execute_result"
    },
    {
     "data": {
      "image/png": "[encoded data removed]",
      "text/plain": [
       "<Figure size 640x480 with 1 Axes>"
      ]
     },
     "metadata": {},
     "output_type": "display_data"
    }
   ],
   "source": [
    "class_frequency = df_ohe['Exited'].value_counts(normalize=True)\n",
    "print(class_frequency)\n",
    "class_frequency.plot(kind='bar',\n",
    "                     title=\"Частота данных в колонке Exited\",\n",
    "                     xlabel=\"Данные\",\n",
    "                     ylabel=\"Частота\") \n"
   ]
  },
  {
   "cell_type": "markdown",
   "metadata": {},
   "source": [
    "Разбиваем данные с прямым кодированием (df_ohe) на выборки:"
   ]
  },
  {
   "cell_type": "code",
   "execution_count": 10,
   "metadata": {},
   "outputs": [],
   "source": [
    "features_ohe = df_ohe.drop('Exited', axis=1)\n",
    "target_ohe = df_ohe['Exited']"
   ]
  },
  {
   "cell_type": "code",
   "execution_count": 11,
   "metadata": {},
   "outputs": [],
   "source": [
    "# V1:\n",
    "# # Делить будем в соотношений 80 (тренировочный) и 20 для валидации. \n",
    "# ohe_features_train, ohe_features_valid, ohe_target_train, ohe_target_valid = train_test_split(\n",
    "#     features_ohe,\n",
    "#     target_ohe,\n",
    "#     train_size=0.8,\n",
    "#     test_size=0.2,\n",
    "#     stratify=target_ohe)"
   ]
  },
  {
   "cell_type": "code",
   "execution_count": 12,
   "metadata": {},
   "outputs": [],
   "source": [
    "# Делить будем в соотношений 80 (тренировочный), по 20 для валидации и теста. \n",
    "ohe_features_placeholder, ohe_features_test, ohe_target_placeholder, ohe_target_test = train_test_split(\n",
    "    features_ohe,\n",
    "    target_ohe,\n",
    "    train_size=0.8,\n",
    "    test_size=0.2,\n",
    "    stratify=target_ohe)\n",
    "# Дальше делим ohe_features_placeholder (target, valid)\n",
    "ohe_features_train, ohe_features_valid, ohe_target_train, ohe_target_valid = train_test_split(\n",
    "    ohe_features_placeholder,\n",
    "    ohe_target_placeholder,\n",
    "    train_size=0.75,\n",
    "    test_size=0.25,\n",
    "    stratify=ohe_target_placeholder)"
   ]
  },
  {
   "cell_type": "code",
   "execution_count": 13,
   "metadata": {},
   "outputs": [],
   "source": [
    "numeric = ['Balance', 'EstimatedSalary']\n",
    "scaler = StandardScaler()\n",
    "scaler.fit(ohe_features_train[numeric]) \n",
    "ohe_features_train[numeric] = scaler.transform(ohe_features_train[numeric])"
   ]
  },
  {
   "cell_type": "markdown",
   "metadata": {},
   "source": [
    "Исследуем модели без учета дисбаланса классов."
   ]
  },
  {
   "cell_type": "markdown",
   "metadata": {},
   "source": [
    "решающее дерево"
   ]
  },
  {
   "cell_type": "code",
   "execution_count": 14,
   "metadata": {},
   "outputs": [
    {
     "name": "stderr",
     "output_type": "stream",
     "text": [
      "100%|██████████| 19/19 [00:00<00:00, 46.96it/s]"
     ]
    },
    {
     "name": "stdout",
     "output_type": "stream",
     "text": [
      "F1 лучшей модели: 0.5879043600562587 глубина: 6 AUC-ROC: 0.8303102794628218\n"
     ]
    },
    {
     "name": "stderr",
     "output_type": "stream",
     "text": [
      "\n"
     ]
    }
   ],
   "source": [
    "best_dtcModel, best_dtc_result, best_dtc_depth, dtc_roc_auc = dtcModelTraining(\n",
    "    ohe_features_train,\n",
    "    ohe_features_valid,\n",
    "    ohe_target_train,\n",
    "    ohe_target_valid\n",
    ")\n",
    "print(\"F1 лучшей модели:\", best_dtc_result, 'глубина:', best_dtc_depth, \"AUC-ROC:\", dtc_roc_auc)"
   ]
  },
  {
   "cell_type": "markdown",
   "metadata": {},
   "source": [
    "случайный лес"
   ]
  },
  {
   "cell_type": "code",
   "execution_count": 15,
   "metadata": {
    "scrolled": true
   },
   "outputs": [
    {
     "name": "stderr",
     "output_type": "stream",
     "text": [
      "100%|██████████| 14/14 [00:55<00:00,  3.95s/it]"
     ]
    },
    {
     "name": "stdout",
     "output_type": "stream",
     "text": [
      "F1 лучшей модели: 0.6015503875968992 Количество деревьев: 90 Максимальная глубина: 10 AUC-ROC: 0.8592876389486559\n"
     ]
    },
    {
     "name": "stderr",
     "output_type": "stream",
     "text": [
      "\n"
     ]
    }
   ],
   "source": [
    "best_rfcModel, best_rfc_result, best_rfc_est, best_rfc_depth, rfc_roc_auc = rfcModelTraining(\n",
    "    ohe_features_train,\n",
    "    ohe_features_valid,\n",
    "    ohe_target_train,\n",
    "    ohe_target_valid\n",
    ")\n",
    "print(\"F1 лучшей модели:\", best_rfc_result,\n",
    "      \"Количество деревьев:\", best_rfc_est,\n",
    "      \"Максимальная глубина:\", best_rfc_depth,\n",
    "      \"AUC-ROC:\", rfc_roc_auc\n",
    ")"
   ]
  },
  {
   "cell_type": "markdown",
   "metadata": {},
   "source": [
    "логистическая регрессия"
   ]
  },
  {
   "cell_type": "code",
   "execution_count": 16,
   "metadata": {},
   "outputs": [
    {
     "name": "stdout",
     "output_type": "stream",
     "text": [
      "F1 модели: 0.3260869565217391 AUC-ROC: 0.7645565442175611\n"
     ]
    }
   ],
   "source": [
    "result, roc_auc = lrModelTraining(ohe_features_train, ohe_features_valid, ohe_target_train, ohe_target_valid)\n",
    "        \n",
    "print(\"F1 модели:\", result, \"AUC-ROC:\", roc_auc)"
   ]
  },
  {
   "cell_type": "markdown",
   "metadata": {},
   "source": [
    "### Работаем с данными с порядковым кодированием (df_ordinal)"
   ]
  },
  {
   "cell_type": "code",
   "execution_count": 17,
   "metadata": {},
   "outputs": [
    {
     "name": "stdout",
     "output_type": "stream",
     "text": [
      "0.0    0.7963\n",
      "1.0    0.2037\n",
      "Name: Exited, dtype: float64\n"
     ]
    },
    {
     "data": {
      "text/plain": [
       "<AxesSubplot:title={'center':'Частота данных в колонке Exited'}, xlabel='Данные', ylabel='Частота'>"
      ]
     },
     "execution_count": 17,
     "metadata": {},
     "output_type": "execute_result"
    },
    {
     "data": {
      "image/png": "[encoded data removed]",
      "text/plain": [
       "<Figure size 640x480 with 1 Axes>"
      ]
     },
     "metadata": {},
     "output_type": "display_data"
    }
   ],
   "source": [
    "# Баланс классов поменяться не должем.\n",
    "class_frequency = df_ordinal['Exited'].value_counts(normalize=True)\n",
    "print(class_frequency)\n",
    "class_frequency.plot(kind='bar',\n",
    "                     title=\"Частота данных в колонке Exited\",\n",
    "                     xlabel=\"Данные\",\n",
    "                     ylabel=\"Частота\") "
   ]
  },
  {
   "cell_type": "markdown",
   "metadata": {},
   "source": [
    "Разбиваем данные с порядковым кодированием (df_ordinal) на выборки:"
   ]
  },
  {
   "cell_type": "code",
   "execution_count": 18,
   "metadata": {},
   "outputs": [],
   "source": [
    "features_ordinal = df_ordinal.drop('Exited', axis=1)\n",
    "target_ordinal = df_ordinal['Exited']"
   ]
  },
  {
   "cell_type": "code",
   "execution_count": 19,
   "metadata": {},
   "outputs": [],
   "source": [
    "# V1:\n",
    "# # Делить будем в соотношений 80 (тренировочный) и 20 для валидации. \n",
    "# ordinal_features_train, ordinal_features_valid, ordinal_target_train, ordinal_target_valid = train_test_split(\n",
    "#     features_ordinal,\n",
    "#     target_ordinal,\n",
    "#     train_size=0.8,\n",
    "#     test_size=0.2,\n",
    "#     stratify=target_ordinal)"
   ]
  },
  {
   "cell_type": "code",
   "execution_count": 20,
   "metadata": {},
   "outputs": [],
   "source": [
    "# Делить будем в соотношений 80 (тренировочный), по 20 для валидации и теста. \n",
    "ordinal_features_placeholder, ordinal_features_test, ordinal_target_placeholder, ordinal_target_test = train_test_split(\n",
    "    features_ordinal,\n",
    "    target_ordinal,\n",
    "    train_size=0.8,\n",
    "    test_size=0.2,\n",
    "    stratify=target_ordinal)\n",
    "# Дальше делим ordinal_features_placeholder (target, valid)\n",
    "ordinal_features_train, ordinal_features_valid, ordinal_target_train, ordinal_target_valid = train_test_split(\n",
    "    ordinal_features_placeholder,\n",
    "    ordinal_target_placeholder,\n",
    "    train_size=0.75,\n",
    "    test_size=0.25,\n",
    "    stratify=ordinal_target_placeholder)"
   ]
  },
  {
   "cell_type": "code",
   "execution_count": 21,
   "metadata": {},
   "outputs": [],
   "source": [
    "numeric = ['Balance', 'EstimatedSalary']\n",
    "scaler = StandardScaler()\n",
    "scaler.fit(ordinal_features_train[numeric]) \n",
    "ordinal_features_train[numeric] = scaler.transform(ordinal_features_train[numeric])"
   ]
  },
  {
   "cell_type": "markdown",
   "metadata": {},
   "source": [
    "Исследуем модели без учета дисбаланса классов."
   ]
  },
  {
   "cell_type": "markdown",
   "metadata": {},
   "source": [
    "решающее дерево"
   ]
  },
  {
   "cell_type": "code",
   "execution_count": 22,
   "metadata": {},
   "outputs": [
    {
     "name": "stderr",
     "output_type": "stream",
     "text": [
      "100%|██████████| 19/19 [00:00<00:00, 45.90it/s]"
     ]
    },
    {
     "name": "stdout",
     "output_type": "stream",
     "text": [
      "F1 лучшей модели: 0.6100151745068286 глубина: 6 AUC-ROC: 0.8399719184156074\n"
     ]
    },
    {
     "name": "stderr",
     "output_type": "stream",
     "text": [
      "\n"
     ]
    }
   ],
   "source": [
    "best_dtcModel, best_dtc_result, best_dtc_depth, dtc_roc_auc = dtcModelTraining(\n",
    "    ordinal_features_train,\n",
    "    ordinal_features_valid,\n",
    "    ordinal_target_train,\n",
    "    ordinal_target_valid\n",
    ")\n",
    "print(\"F1 лучшей модели:\", best_dtc_result,\n",
    "      'глубина:', best_dtc_depth,\n",
    "      \"AUC-ROC:\", dtc_roc_auc\n",
    ")"
   ]
  },
  {
   "cell_type": "markdown",
   "metadata": {},
   "source": [
    "случайный лес"
   ]
  },
  {
   "cell_type": "code",
   "execution_count": 23,
   "metadata": {},
   "outputs": [
    {
     "name": "stderr",
     "output_type": "stream",
     "text": [
      "100%|██████████| 14/14 [00:59<00:00,  4.23s/it]"
     ]
    },
    {
     "name": "stdout",
     "output_type": "stream",
     "text": [
      "F1 лучшей модели: 0.6144200626959248 Количество деревьев: 120 Максимальная глубина: 13 AUC-ROC: 0.8592876389486559\n"
     ]
    },
    {
     "name": "stderr",
     "output_type": "stream",
     "text": [
      "\n"
     ]
    }
   ],
   "source": [
    "best_rfcModel, best_rfc_result, best_rfc_est, best_rfc_depth, rtc_roc_auc = rfcModelTraining(\n",
    "    ordinal_features_train,\n",
    "    ordinal_features_valid,\n",
    "    ordinal_target_train,\n",
    "    ordinal_target_valid\n",
    ")\n",
    "print(\"F1 лучшей модели:\", best_rfc_result,\n",
    "      \"Количество деревьев:\", best_rfc_est,\n",
    "      \"Максимальная глубина:\", best_rfc_depth,\n",
    "      \"AUC-ROC:\", rfc_roc_auc\n",
    ")"
   ]
  },
  {
   "cell_type": "markdown",
   "metadata": {},
   "source": [
    "### Вывод.\n",
    "Показатели f1 меры не достаточны. Также, баланс классов ~8 к 2, это далеко от единицы. Попытаемся исправить данный дисбаланс. "
   ]
  },
  {
   "cell_type": "markdown",
   "metadata": {},
   "source": [
    "## Борьба с дисбалансом"
   ]
  },
  {
   "cell_type": "markdown",
   "metadata": {},
   "source": [
    "Создадим фукции для увеличения и уменьшения показателей и используем балансировку классов при обучении."
   ]
  },
  {
   "cell_type": "code",
   "execution_count": 24,
   "metadata": {},
   "outputs": [],
   "source": [
    "def upsample(features, target, repeat):\n",
    "        features_zeros = features[target == 0]\n",
    "        features_ones = features[target == 1]\n",
    "        target_zeros = target[target == 0]\n",
    "        target_ones = target[target == 1]\n",
    "\n",
    "        features_upsampled = pd.concat([features_zeros] + ([features_ones] * repeat))\n",
    "        target_upsampled = pd.concat([target_zeros] + ([target_ones] * repeat))\n",
    "\n",
    "        features_upsampled, target_upsampled = shuffle(\n",
    "            features_upsampled, target_upsampled, random_state=12345)\n",
    "\n",
    "        return features_upsampled, target_upsampled\n",
    "    \n",
    "def downsample(features, target, fraction):\n",
    "    features_zeros = features[target == 0]\n",
    "    features_ones = features[target == 1]\n",
    "    target_zeros = target[target == 0]\n",
    "    target_ones = target[target == 1]\n",
    "\n",
    "    features_downsampled = pd.concat(\n",
    "        [features_zeros.sample(frac=fraction, random_state=12345)] + [features_ones])\n",
    "    target_downsampled = pd.concat(\n",
    "        [target_zeros.sample(frac=fraction, random_state=12345)] + [target_ones])\n",
    "    \n",
    "    features_downsampled, target_downsampled = shuffle(\n",
    "        features_downsampled, target_downsampled, random_state=12345)\n",
    "    \n",
    "    return features_downsampled, target_downsampled"
   ]
  },
  {
   "cell_type": "markdown",
   "metadata": {},
   "source": [
    "### Работаем с данными с прямым кодированием (df_ohe)."
   ]
  },
  {
   "cell_type": "code",
   "execution_count": 25,
   "metadata": {},
   "outputs": [],
   "source": [
    "sm = SMOTE(random_state=12345)\n",
    "ohe_features_train_up, ohe_target_train_up = sm.fit_resample(ohe_features_train, ohe_target_train)\n",
    "\n",
    "rus = RandomUnderSampler(random_state=12345)\n",
    "ohe_features_train_down, ohe_target_train_down = rus.fit_resample(ohe_features_train, ohe_target_train)\n",
    "\n",
    "# V1. features_ohe_down, target_ohe_down = downsample(features_ohe, target_ohe, 0.1)\n",
    "# ohe_features_train_down, ohe_features_valid_down, ohe_target_train_down, ohe_target_valid_down = train_test_split(\n",
    "#     features_ohe_down, target_ohe_down, test_size=0.25, random_state=12345, stratify=target_ohe_down)"
   ]
  },
  {
   "cell_type": "markdown",
   "metadata": {},
   "source": [
    "решающее дерево"
   ]
  },
  {
   "cell_type": "code",
   "execution_count": 26,
   "metadata": {},
   "outputs": [
    {
     "name": "stderr",
     "output_type": "stream",
     "text": [
      "100%|██████████| 19/19 [00:00<00:00, 24.48it/s]\n"
     ]
    },
    {
     "name": "stdout",
     "output_type": "stream",
     "text": [
      "F1 лучшей модели при увеличении: 0.4707903780068729 глубина: 4 AUC-ROC: 0.730844095250875\n"
     ]
    },
    {
     "name": "stderr",
     "output_type": "stream",
     "text": [
      "100%|██████████| 19/19 [00:00<00:00, 77.66it/s]"
     ]
    },
    {
     "name": "stdout",
     "output_type": "stream",
     "text": [
      "F1 лучшей модели при уменьшении: 0.5469659185369908 глубина: 5 AUC-ROC: 0.832883731188816\n"
     ]
    },
    {
     "name": "stderr",
     "output_type": "stream",
     "text": [
      "\n"
     ]
    }
   ],
   "source": [
    "# увеличим положительные ответы\n",
    "best_dtcModel, best_dtc_result, best_dtc_depth, dtc_roc_auc = dtcModelTraining(\n",
    "    ohe_features_train_up,\n",
    "    ohe_features_valid,\n",
    "    ohe_target_train_up,\n",
    "    ohe_target_valid,\n",
    "    classWeight='balanced'\n",
    ")\n",
    "print(\"F1 лучшей модели при увеличении:\", best_dtc_result, \n",
    "      \"глубина:\", best_dtc_depth, \n",
    "      \"AUC-ROC:\", dtc_roc_auc\n",
    ")\n",
    "\n",
    "# уменьшим отрицательные\n",
    "best_dtcModel, best_dtc_result, best_dtc_depth, dtc_roc_auc = dtcModelTraining(\n",
    "    ohe_features_train_down,\n",
    "    ohe_features_valid,\n",
    "    ohe_target_train_down,\n",
    "    ohe_target_valid,\n",
    "    classWeight='balanced'\n",
    ")\n",
    "print(\"F1 лучшей модели при уменьшении:\", best_dtc_result,\n",
    "      \"глубина:\", best_dtc_depth,\n",
    "      \"AUC-ROC:\", dtc_roc_auc\n",
    ")"
   ]
  },
  {
   "cell_type": "markdown",
   "metadata": {},
   "source": [
    "случайный лес"
   ]
  },
  {
   "cell_type": "code",
   "execution_count": 27,
   "metadata": {},
   "outputs": [
    {
     "name": "stderr",
     "output_type": "stream",
     "text": [
      "100%|██████████| 14/14 [01:25<00:00,  6.10s/it]\n"
     ]
    },
    {
     "name": "stdout",
     "output_type": "stream",
     "text": [
      "F1 лучшей модели при увеличении: 0.5725971370143149 Количество деревьев: 10 Максимальная глубина: 4 AUC-ROC: 0.8016074626244117\n"
     ]
    },
    {
     "name": "stderr",
     "output_type": "stream",
     "text": [
      "100%|██████████| 14/14 [00:32<00:00,  2.31s/it]"
     ]
    },
    {
     "name": "stdout",
     "output_type": "stream",
     "text": [
      "F1 лучшей модели при уменьшении: 0.5966228893058162 Количество деревьев: 30 Максимальная глубина: 8 AUC-ROC: 0.8539032098354132\n"
     ]
    },
    {
     "name": "stderr",
     "output_type": "stream",
     "text": [
      "\n"
     ]
    }
   ],
   "source": [
    "# увеличим положительные ответы\n",
    "best_rfcModel, best_rfc_result, best_rfc_est, best_rfc_depth, rfc_roc_auc = rfcModelTraining(\n",
    "    ohe_features_train_up,\n",
    "    ohe_features_valid,\n",
    "    ohe_target_train_up,\n",
    "    ohe_target_valid,\n",
    "    classWeight='balanced'\n",
    ")\n",
    "print(\"F1 лучшей модели при увеличении:\", best_rfc_result, \n",
    "      \"Количество деревьев:\", best_rfc_est, \n",
    "      \"Максимальная глубина:\", best_rfc_depth,\n",
    "      \"AUC-ROC:\", rfc_roc_auc\n",
    ")\n",
    "\n",
    "# уменьшим отрицательные ответы\n",
    "best_rfcModel, best_rfc_result, best_rfc_est, best_rfc_depth, rfc_roc_auc = rfcModelTraining(\n",
    "    ohe_features_train_down,\n",
    "    ohe_features_valid,\n",
    "    ohe_target_train_down,\n",
    "    ohe_target_valid,\n",
    "    classWeight='balanced'\n",
    ")\n",
    "print(\"F1 лучшей модели при уменьшении:\", best_rfc_result, \n",
    "      \"Количество деревьев:\", best_rfc_est, \n",
    "      \"Максимальная глубина:\", best_rfc_depth,\n",
    "      \"AUC-ROC:\", rfc_roc_auc\n",
    ")"
   ]
  },
  {
   "cell_type": "markdown",
   "metadata": {},
   "source": [
    "логистическая регрессия"
   ]
  },
  {
   "cell_type": "code",
   "execution_count": 28,
   "metadata": {},
   "outputs": [
    {
     "name": "stdout",
     "output_type": "stream",
     "text": [
      "F1 модели при увеличении: 0.4411764705882353 AUC-ROC: 0.7199942623671438\n",
      "F1 модели при уменьшении: 0.48578811369509045 AUC-ROC: 0.772519823367281\n"
     ]
    }
   ],
   "source": [
    "# увеличим положительные ответы\n",
    "result, roc_auc = lrModelTraining(ohe_features_train_up,\n",
    "                         ohe_features_valid,\n",
    "                         ohe_target_train_up,\n",
    "                         ohe_target_valid,\n",
    "                         classWeight='balanced'\n",
    ")\n",
    "\n",
    "print(\"F1 модели при увеличении:\", result, \"AUC-ROC:\", roc_auc)\n",
    "\n",
    "# уменьшим отрицательные ответы\n",
    "result, roc_auc = lrModelTraining(ohe_features_train_down,\n",
    "                         ohe_features_valid,\n",
    "                         ohe_target_train_down,\n",
    "                         ohe_target_valid,\n",
    "                         classWeight='balanced'\n",
    ")\n",
    "\n",
    "print(\"F1 модели при уменьшении:\", result, \"AUC-ROC:\", roc_auc)"
   ]
  },
  {
   "cell_type": "markdown",
   "metadata": {},
   "source": [
    "### Работаем с данными с порядковым кодированием (df_ordinal)"
   ]
  },
  {
   "cell_type": "code",
   "execution_count": 29,
   "metadata": {},
   "outputs": [],
   "source": [
    "sm = SMOTE(random_state=12345)\n",
    "ordinal_features_train_up, ordinal_target_train_up = sm.fit_resample(ordinal_features_train, ordinal_target_train)\n",
    "\n",
    "rus = RandomUnderSampler(random_state=12345)\n",
    "ordinal_features_train_down, ordinal_target_train_down = rus.fit_resample(ordinal_features_train, ordinal_target_train)\n",
    "\n",
    "#V1. features_ordinal_down, target_ordinal_down = downsample(features_ordinal, target_ordinal, 0.1)\n",
    "# ordinal_features_train_down,\n",
    "# ordinal_features_valid_down,\n",
    "# ordinal_target_train_down,\n",
    "# ordinal_target_valid_down = train_test_split(\n",
    "#     features_ordinal_down, target_ordinal_down, test_size=0.25, random_state=12345, stratify=target_ordinal_down)"
   ]
  },
  {
   "cell_type": "markdown",
   "metadata": {},
   "source": [
    "решающее дерево"
   ]
  },
  {
   "cell_type": "code",
   "execution_count": 30,
   "metadata": {},
   "outputs": [
    {
     "name": "stderr",
     "output_type": "stream",
     "text": [
      "100%|██████████| 19/19 [00:00<00:00, 24.87it/s]\n"
     ]
    },
    {
     "name": "stdout",
     "output_type": "stream",
     "text": [
      "F1 лучшей модели: 0.6260162601626016 глубина: 7 AUC-ROC: 0.8284252143068283\n"
     ]
    },
    {
     "name": "stderr",
     "output_type": "stream",
     "text": [
      "100%|██████████| 19/19 [00:00<00:00, 69.91it/s]"
     ]
    },
    {
     "name": "stdout",
     "output_type": "stream",
     "text": [
      "F1 лучшей модели: 0.6213592233009709 глубина: 5 AUC-ROC: 0.8280041444969948\n"
     ]
    },
    {
     "name": "stderr",
     "output_type": "stream",
     "text": [
      "\n"
     ]
    }
   ],
   "source": [
    "# увеличим положительные ответы\n",
    "best_dtcModel, best_dtc_result, best_dtc_depth, dtc_roc_auc = dtcModelTraining(\n",
    "    ordinal_features_train_up,\n",
    "    ordinal_features_valid,\n",
    "    ordinal_target_train_up,\n",
    "    ordinal_target_valid,\n",
    "    classWeight='balanced')\n",
    "print(\"F1 лучшей модели:\", best_dtc_result,\n",
    "      'глубина:', best_dtc_depth,\n",
    "      \"AUC-ROC:\", dtc_roc_auc\n",
    ")\n",
    "\n",
    "\n",
    "# уменьшим отрицательные ответы\n",
    "best_dtcModel, best_dtc_result, best_dtc_depth, dtc_roc_auc = dtcModelTraining(ordinal_features_train_down,\n",
    "                                                   ordinal_features_valid,\n",
    "                                                   ordinal_target_train_down,\n",
    "                                                   ordinal_target_valid,\n",
    "                                                   classWeight='balanced')\n",
    "print(\"F1 лучшей модели:\", best_dtc_result,\n",
    "      'глубина:', best_dtc_depth,\n",
    "      \"AUC-ROC:\", dtc_roc_auc\n",
    ")"
   ]
  },
  {
   "cell_type": "markdown",
   "metadata": {},
   "source": [
    "случайный лес"
   ]
  },
  {
   "cell_type": "code",
   "execution_count": 31,
   "metadata": {},
   "outputs": [
    {
     "name": "stderr",
     "output_type": "stream",
     "text": [
      "100%|██████████| 14/14 [01:39<00:00,  7.12s/it]\n"
     ]
    },
    {
     "name": "stdout",
     "output_type": "stream",
     "text": [
      "F1 лучшей модели: 0.6485084306095978 Количество деревьев: 40 Максимальная глубина: 6 AUC-ROC: 0.8521313676224259\n"
     ]
    },
    {
     "name": "stderr",
     "output_type": "stream",
     "text": [
      "100%|██████████| 14/14 [00:33<00:00,  2.41s/it]"
     ]
    },
    {
     "name": "stdout",
     "output_type": "stream",
     "text": [
      "F1 лучшей модели: 0.6088631984585743 Количество деревьев: 100 Максимальная глубина: 13 AUC-ROC: 0.863300879396985\n"
     ]
    },
    {
     "name": "stderr",
     "output_type": "stream",
     "text": [
      "\n"
     ]
    }
   ],
   "source": [
    "# увеличим положительные ответы\n",
    "best_rfcModel, best_rfc_result, best_rfc_est, best_rfc_depth, rfc_roc_auc = rfcModelTraining(\n",
    "    ordinal_features_train_up,\n",
    "    ordinal_features_valid,\n",
    "    ordinal_target_train_up,\n",
    "    ordinal_target_valid,\n",
    "    classWeight='balanced')\n",
    "print(\"F1 лучшей модели:\", best_rfc_result,\n",
    "      \"Количество деревьев:\", best_rfc_est,\n",
    "      \"Максимальная глубина:\", best_rfc_depth,\n",
    "      \"AUC-ROC:\", rfc_roc_auc\n",
    ")\n",
    "# уменьшим отрицательные ответы\n",
    "best_rfcModel, best_rfc_result, best_rfc_est, best_rfc_depth, rfc_roc_auc = rfcModelTraining(\n",
    "    ordinal_features_train_down,\n",
    "    ordinal_features_valid,\n",
    "    ordinal_target_train_down,\n",
    "    ordinal_target_valid,\n",
    "    classWeight='balanced')\n",
    "print(\"F1 лучшей модели:\", best_rfc_result,\n",
    "      \"Количество деревьев:\", best_rfc_est,\n",
    "      \"Максимальная глубина:\", best_rfc_depth,\n",
    "      \"AUC-ROC:\", rfc_roc_auc\n",
    ")"
   ]
  },
  {
   "cell_type": "markdown",
   "metadata": {},
   "source": [
    "### Вывод.\n",
    "После обновления, изменились показатели f1 меры:\n",
    "    Теперь наиболее высокий показатель f1 у модели случайного леса с порядковым кодированием (df_ordinal) и увеличением отприцательных ответов. \n",
    "Параметры следующие:\n",
    "\n",
    "Количество деревьев: 20 <br>\n",
    "Максимальная глубина: 6 <br>\n",
    "F1 лучшей модели: 0.6564102564102564 <br>\n",
    "    \n",
    "Воспользуюсь данной функцией для получения оптимальной модели."
   ]
  },
  {
   "cell_type": "markdown",
   "metadata": {},
   "source": [
    "## Тестирование модели"
   ]
  },
  {
   "cell_type": "code",
   "execution_count": 32,
   "metadata": {},
   "outputs": [
    {
     "name": "stderr",
     "output_type": "stream",
     "text": [
      "100%|██████████| 14/14 [01:40<00:00,  7.17s/it]"
     ]
    },
    {
     "name": "stdout",
     "output_type": "stream",
     "text": [
      "F1 лучшей модели: 0.6485084306095978 Количество деревьев: 40 Максимальная глубина: 6 AUC-ROC: 0.8521313676224259\n"
     ]
    },
    {
     "name": "stderr",
     "output_type": "stream",
     "text": [
      "\n"
     ]
    }
   ],
   "source": [
    "# увеличим положительные ответы\n",
    "best_rfcModel, best_rfc_result, best_rfc_est, best_rfc_depth, rfc_roc_auc = rfcModelTraining(\n",
    "    ordinal_features_train_up,\n",
    "    ordinal_features_valid,\n",
    "    ordinal_target_train_up,\n",
    "    ordinal_target_valid,\n",
    "    classWeight='balanced')\n",
    "print(\"F1 лучшей модели:\", best_rfc_result,\n",
    "      \"Количество деревьев:\", best_rfc_est,\n",
    "      \"Максимальная глубина:\", best_rfc_depth,\n",
    "      \"AUC-ROC:\", rfc_roc_auc\n",
    ")"
   ]
  },
  {
   "cell_type": "code",
   "execution_count": 33,
   "metadata": {},
   "outputs": [
    {
     "name": "stdout",
     "output_type": "stream",
     "text": [
      "F1 модели: 0.586080586080586\n"
     ]
    }
   ],
   "source": [
    "# Маштабируем тестовую выборку\n",
    "numeric = ['Balance', 'EstimatedSalary']\n",
    "scaler = StandardScaler()\n",
    "scaler.fit(ordinal_features_test[numeric]) \n",
    "ordinal_features_test[numeric] = scaler.transform(ordinal_features_test[numeric])\n",
    "\n",
    "\n",
    "# проверяем F1  \n",
    "predictions = best_rfcModel.predict(ordinal_features_test)\n",
    "result = f1_score(ordinal_target_test, predictions)\n",
    "print(\"F1 модели:\", result)"
   ]
  },
  {
   "cell_type": "markdown",
   "metadata": {},
   "source": [
    "AUC-ROC"
   ]
  },
  {
   "cell_type": "code",
   "execution_count": 34,
   "metadata": {},
   "outputs": [
    {
     "name": "stdout",
     "output_type": "stream",
     "text": [
      "0.8430518345772583\n"
     ]
    }
   ],
   "source": [
    "auc_roc = calculateRocAuc(best_rfcModel, ordinal_features_test, ordinal_target_test)\n",
    "\n",
    "print(auc_roc)"
   ]
  },
  {
   "cell_type": "markdown",
   "metadata": {},
   "source": [
    "### Вывод.\n",
    "Модель дает требуемый показатель f1 меры (0.6103896103896104), но AUC-ROC (0.8472362963888388) всего около 30% выше случайной модели. Дальнейшая работа может быть направления для улучшения AUC-ROC, но сложно сказать, если модель была обучена правильно и удачно."
   ]
  },
  {
   "cell_type": "markdown",
   "metadata": {},
   "source": [
    "## Чек-лист готовности проекта"
   ]
  },
  {
   "cell_type": "markdown",
   "metadata": {},
   "source": [
    "Поставьте 'x' в выполненных пунктах. Далее нажмите Shift+Enter."
   ]
  },
  {
   "cell_type": "markdown",
   "metadata": {},
   "source": [
    "- [x]  Jupyter Notebook открыт\n",
    "- [x]  Весь код выполняется без ошибок\n",
    "- [x]  Ячейки с кодом расположены в порядке исполнения\n",
    "- [x]  Выполнен шаг 1: данные подготовлены\n",
    "- [x]  Выполнен шаг 2: задача исследована\n",
    "    - [x]  Исследован баланс классов\n",
    "    - [x]  Изучены модели без учёта дисбаланса\n",
    "    - [x]  Написаны выводы по результатам исследования\n",
    "- [x]  Выполнен шаг 3: учтён дисбаланс\n",
    "    - [x]  Применено несколько способов борьбы с дисбалансом\n",
    "    - [x]  Написаны выводы по результатам исследования\n",
    "- [x]  Выполнен шаг 4: проведено тестирование\n",
    "- [x]  Удалось достичь *F1*-меры не менее 0.59\n",
    "- [x]  Исследована метрика *AUC-ROC*"
   ]
  },
  {
   "cell_type": "code",
   "execution_count": null,
   "metadata": {},
   "outputs": [],
   "source": []
  }
 ],
 "metadata": {
  "ExecuteTimeLog": [
   {
    "duration": 1603,
    "start_time": "2023-02-19T13:34:18.197Z"
   },
   {
    "duration": 17,
    "start_time": "2023-02-19T13:34:19.802Z"
   },
   {
    "duration": 38,
    "start_time": "2023-02-19T13:34:19.820Z"
   },
   {
    "duration": 5,
    "start_time": "2023-02-19T13:34:19.861Z"
   },
   {
    "duration": 14,
    "start_time": "2023-02-19T13:34:19.868Z"
   },
   {
    "duration": 14,
    "start_time": "2023-02-19T13:34:19.883Z"
   },
   {
    "duration": 31,
    "start_time": "2023-02-19T13:34:19.904Z"
   },
   {
    "duration": 398,
    "start_time": "2023-02-19T13:34:19.937Z"
   },
   {
    "duration": 5,
    "start_time": "2023-02-19T13:34:20.337Z"
   },
   {
    "duration": 9,
    "start_time": "2023-02-19T13:34:20.344Z"
   },
   {
    "duration": 399,
    "start_time": "2023-02-19T13:34:20.354Z"
   },
   {
    "duration": 8000,
    "start_time": "2023-02-19T13:34:20.755Z"
   },
   {
    "duration": 15461,
    "start_time": "2023-02-19T13:34:28.756Z"
   },
   {
    "duration": 204,
    "start_time": "2023-02-19T13:34:44.229Z"
   },
   {
    "duration": 3,
    "start_time": "2023-02-19T13:34:44.435Z"
   },
   {
    "duration": 15,
    "start_time": "2023-02-19T13:34:44.440Z"
   },
   {
    "duration": 393,
    "start_time": "2023-02-19T13:34:44.457Z"
   },
   {
    "duration": 8545,
    "start_time": "2023-02-19T13:34:44.852Z"
   },
   {
    "duration": 14,
    "start_time": "2023-02-19T13:34:53.399Z"
   },
   {
    "duration": 38,
    "start_time": "2023-02-19T13:34:53.415Z"
   },
   {
    "duration": 617,
    "start_time": "2023-02-19T13:34:53.455Z"
   },
   {
    "duration": 13759,
    "start_time": "2023-02-19T13:34:54.074Z"
   },
   {
    "duration": 26592,
    "start_time": "2023-02-19T13:35:07.834Z"
   },
   {
    "duration": 181,
    "start_time": "2023-02-19T13:35:34.428Z"
   },
   {
    "duration": 668,
    "start_time": "2023-02-19T13:35:34.610Z"
   },
   {
    "duration": 14151,
    "start_time": "2023-02-19T13:35:35.280Z"
   },
   {
    "duration": 14,
    "start_time": "2023-02-19T13:35:49.433Z"
   },
   {
    "duration": 73,
    "start_time": "2023-02-19T13:35:49.450Z"
   },
   {
    "duration": 10,
    "start_time": "2023-02-19T13:35:49.529Z"
   }
  ],
  "kernelspec": {
   "display_name": "Python 3 (ipykernel)",
   "language": "python",
   "name": "python3"
  },
  "language_info": {
   "codemirror_mode": {
    "name": "ipython",
    "version": 3
   },
   "file_extension": ".py",
   "mimetype": "text/x-python",
   "name": "python",
   "nbconvert_exporter": "python",
   "pygments_lexer": "ipython3",
   "version": "3.9.13"
  },
  "toc": {
   "base_numbering": 1,
   "nav_menu": {},
   "number_sections": true,
   "sideBar": true,
   "skip_h1_title": true,
   "title_cell": "Содержание",
   "title_sidebar": "Contents",
   "toc_cell": true,
   "toc_position": {},
   "toc_section_display": true,
   "toc_window_display": false
  }
 },
 "nbformat": 4,
 "nbformat_minor": 2
}
